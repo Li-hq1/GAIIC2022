{
 "cells": [
  {
   "cell_type": "markdown",
   "metadata": {},
   "source": [
    "#### 预处理"
   ]
  },
  {
   "cell_type": "code",
   "execution_count": null,
   "metadata": {},
   "outputs": [],
   "source": [
    "# 数据预处理\n",
    "!python project/code/dataset/data_process/data_preprocess.py"
   ]
  },
  {
   "cell_type": "code",
   "execution_count": null,
   "metadata": {},
   "outputs": [],
   "source": [
    "# 分词\n",
    "!python project/code/dataset/data_process/split_words.py --gpus '0'"
   ]
  },
  {
   "cell_type": "code",
   "execution_count": null,
   "metadata": {},
   "outputs": [],
   "source": [
    "# 处理分词\n",
    "!python project/code/dataset/data_process/process_split_words.py"
   ]
  },
  {
   "cell_type": "code",
   "execution_count": null,
   "metadata": {},
   "outputs": [],
   "source": [
    "# 生成字典\n",
    "!python project/code/dataset/data_process/generate_dict.py"
   ]
  },
  {
   "cell_type": "code",
   "execution_count": null,
   "metadata": {},
   "outputs": [],
   "source": [
    "# title的顺序划分\n",
    "!python project/code/dataset/data_divide/order_divide_title_data.py"
   ]
  },
  {
   "cell_type": "code",
   "execution_count": null,
   "metadata": {},
   "outputs": [],
   "source": [
    "# title的seed0划分\n",
    "!python project/code/dataset/data_divide/random_divide_title_data.py --seed 0"
   ]
  },
  {
   "cell_type": "code",
   "execution_count": null,
   "metadata": {},
   "outputs": [],
   "source": [
    "# title的seed3划分\n",
    "!python project/code/dataset/data_divide/random_divide_title_data.py --seed 3"
   ]
  },
  {
   "cell_type": "code",
   "execution_count": null,
   "metadata": {},
   "outputs": [],
   "source": [
    "# title的seed5划分\n",
    "!python project/code/dataset/data_divide/random_divide_title_data.py --seed 5"
   ]
  },
  {
   "cell_type": "markdown",
   "metadata": {},
   "source": [
    "#### Title Pretrain"
   ]
  },
  {
   "cell_type": "code",
   "execution_count": null,
   "metadata": {},
   "outputs": [],
   "source": [
    "# 预训练order和seed0数据\n",
    "!python project/code/title_pretrain_2tasks_order.py --gpus '0' >/dev/null 2>&1 &\n",
    "!python project/code/title_pretrain_2tasks_seed.py --gpus '0' --fold_id 0"
   ]
  },
  {
   "cell_type": "code",
   "execution_count": null,
   "metadata": {},
   "outputs": [],
   "source": [
    "# 预训练seed3和seed5数据\n",
    "!python project/code/title_pretrain_2tasks_seed.py --gpus '0' --fold_id 3 >/dev/null 2>&1 &\n",
    "!python project/code/title_pretrain_2tasks_seed.py --gpus '0' --fold_id 5"
   ]
  },
  {
   "cell_type": "markdown",
   "metadata": {},
   "source": [
    "#### Title Finetune"
   ]
  },
  {
   "cell_type": "code",
   "execution_count": null,
   "metadata": {},
   "outputs": [],
   "source": [
    "# title finetune\n",
    "!sh project/code/title_finetune.sh"
   ]
  },
  {
   "cell_type": "code",
   "execution_count": null,
   "metadata": {},
   "outputs": [],
   "source": [
    "# select best model\n",
    "!python project/code/title_select_best_model.py"
   ]
  },
  {
   "cell_type": "markdown",
   "metadata": {},
   "source": [
    "#### 属性数据处理及训练"
   ]
  },
  {
   "cell_type": "code",
   "execution_count": null,
   "metadata": {},
   "outputs": [],
   "source": [
    "# 训练数据预处理\n",
    "!python project/code/attr_data_preprocess.py"
   ]
  },
  {
   "cell_type": "code",
   "execution_count": null,
   "metadata": {},
   "outputs": [],
   "source": [
    "# 生成关系字典\n",
    "!python project/code/attr_generate_attr_relation_dict.py"
   ]
  },
  {
   "cell_type": "code",
   "execution_count": null,
   "metadata": {},
   "outputs": [],
   "source": [
    "# 属性训练\n",
    "!sh project/code/train_kfold_cat_attr_matching.sh"
   ]
  }
 ],
 "metadata": {
  "interpreter": {
   "hash": "366c8fa170979874db2c68d5f6dce97c4b60426af7fc7cb0df3eca3c94495d95"
  },
  "kernelspec": {
   "display_name": "Python 3.9.13 ('GAIIC2022')",
   "language": "python",
   "name": "python3"
  },
  "language_info": {
   "name": "python",
   "version": "3.9.15"
  },
  "orig_nbformat": 4
 },
 "nbformat": 4,
 "nbformat_minor": 2
}
