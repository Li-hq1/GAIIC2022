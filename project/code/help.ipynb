{
 "cells": [
  {
   "cell_type": "code",
   "execution_count": 7,
   "metadata": {},
   "outputs": [],
   "source": [
    "import os \n",
    "import json \n",
    "import itertools\n",
    "from tqdm import tqdm \n",
    "fine_file = '/home/haoquan/GAIIC2022/temp/tmp_data/lhq_data/divided/title/order/fine40000.txt' \n",
    "\n",
    "# get attr_dict\n",
    "DATA_DIR = '/home/haoquan/GAIIC2022/original_data/train'\n",
    "attr_dict_file = os.path.join(DATA_DIR, 'attr_to_attrvals.json')\n",
    "def load_attr_dict(file):\n",
    "    # 读取属性字典\n",
    "    with open(file, 'r') as f:\n",
    "        attr_dict = {}\n",
    "        for attr, attrval_list in json.load(f).items():\n",
    "            attrval_list = list(map(lambda x: x.split('='), attrval_list))\n",
    "            attr_dict[attr] = list(itertools.chain.from_iterable(attrval_list))\n",
    "    return attr_dict\n",
    "attr_dict = load_attr_dict(attr_dict_file)\n",
    "            \n",
    "# 特殊的几个属性替换\n",
    "for query, attrs in attr_dict.items():\n",
    "    attrs = attrs.copy()\n",
    "    for i, attr in enumerate(attrs):\n",
    "        if query=='裤门襟' and attr=='拉链':\n",
    "            attr_dict[query][i] = '拉链裤'\n",
    "        if query=='裤门襟' and attr=='系带':\n",
    "            attr_dict[query][i] = '系带裤'\n",
    "        if query=='裤门襟' and attr=='松紧':\n",
    "            attr_dict[query][i] = '松紧裤'\n",
    "        if query=='闭合方式' and attr=='拉链':\n",
    "            attr_dict[query][i] = '拉链鞋'\n",
    "        if query=='闭合方式' and attr=='系带':\n",
    "            attr_dict[query][i] = '系带鞋'\n",
    "\n",
    "# 对于搜索属性可能出错的部分，重调了顺序\n",
    "for query, attr_list in attr_dict.items():\n",
    "    if query == '领型':\n",
    "        attr_list.remove('高领')\n",
    "        attr_list.append('高领')\n",
    "    if query == '衣长':\n",
    "        attr_list.remove('短款')\n",
    "        attr_list.append('短款')\n",
    "    if query == '衣长':\n",
    "        attr_list.remove('长款')\n",
    "        attr_list.append('长款')\n",
    "    if query == '裙长':\n",
    "        attr_list.remove('短裙')\n",
    "        attr_list.append('短裙')\n",
    "    if query == '裙长':\n",
    "        attr_list.remove('长裙')\n",
    "        attr_list.append('长裙')"
   ]
  },
  {
   "cell_type": "code",
   "execution_count": 8,
   "metadata": {},
   "outputs": [
    {
     "name": "stderr",
     "output_type": "stream",
     "text": [
      "200it [00:00, 854.82it/s]"
     ]
    },
    {
     "name": "stdout",
     "output_type": "stream",
     "text": [
      "201\n"
     ]
    },
    {
     "name": "stderr",
     "output_type": "stream",
     "text": [
      "\n"
     ]
    }
   ],
   "source": [
    "save_file = '/home/haoquan/GAIIC2022/temp/tmp_data/lhq_data/divided/title/order/fine40000_test.txt'\n",
    "rets = []\n",
    "with open(fine_file, 'r') as f:\n",
    "    for i, data in enumerate(tqdm(f)):\n",
    "        data = json.loads(data)\n",
    "        title = data['title']\n",
    "        key_attr = {}\n",
    "        match = {}\n",
    "        match['图文'] = 1\n",
    "        # 属性提取\n",
    "        for query, attr_list in attr_dict.items():\n",
    "            for attr in attr_list:\n",
    "                if attr in title:\n",
    "                    key_attr[query] = attr\n",
    "                    match[query] = 1 \n",
    "                    break \n",
    "        data['key_attr'] = key_attr\n",
    "        data['match'] = match\n",
    "\n",
    "        rets.append(json.dumps(data, ensure_ascii=False)+'\\n')\n",
    "        if len(rets) > 200:\n",
    "            break \n",
    "        \n",
    "print(len(rets))\n",
    "with open(save_file, 'w') as f:\n",
    "    f.writelines(rets)"
   ]
  }
 ],
 "metadata": {
  "kernelspec": {
   "display_name": "Python 3.9.13 ('GAIIC2022')",
   "language": "python",
   "name": "python3"
  },
  "language_info": {
   "codemirror_mode": {
    "name": "ipython",
    "version": 3
   },
   "file_extension": ".py",
   "mimetype": "text/x-python",
   "name": "python",
   "nbconvert_exporter": "python",
   "pygments_lexer": "ipython3",
   "version": "3.9.15"
  },
  "orig_nbformat": 4,
  "vscode": {
   "interpreter": {
    "hash": "366c8fa170979874db2c68d5f6dce97c4b60426af7fc7cb0df3eca3c94495d95"
   }
  }
 },
 "nbformat": 4,
 "nbformat_minor": 2
}
